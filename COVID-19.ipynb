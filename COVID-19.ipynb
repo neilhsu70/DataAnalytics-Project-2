{
 "cells": [
  {
   "cell_type": "code",
   "execution_count": 23,
   "metadata": {},
   "outputs": [],
   "source": [
    "#import necessary libraries\n",
    "import plotly.graph_objects as go\n",
    "from plotly.subplots import make_subplots\n",
    "import pandas as pd\n",
    "import numpy as np\n",
    "import requests\n",
    "from datetime import datetime\n"
   ]
  },
  {
   "cell_type": "code",
   "execution_count": 24,
   "metadata": {},
   "outputs": [],
   "source": [
    "#request data from web serve, returns COVID-19 data from web service in JSON format\n",
    "raw= requests.get(\"https://services1.arcgis.com/0MSEUqKaxRlEPj5g/arcgis/rest/services/Coronavirus_2019_nCoV_Cases/FeatureServer/1/query?where=1%3D1&outFields=*&outSR=4326&f=json\")\n",
    "raw_json = raw.json()\n",
    "df = pd.DataFrame(raw_json[\"features\"])"
   ]
  },
  {
   "cell_type": "code",
   "execution_count": 3,
   "metadata": {},
   "outputs": [
    {
     "data": {
      "text/html": [
       "<div>\n",
       "<style scoped>\n",
       "    .dataframe tbody tr th:only-of-type {\n",
       "        vertical-align: middle;\n",
       "    }\n",
       "\n",
       "    .dataframe tbody tr th {\n",
       "        vertical-align: top;\n",
       "    }\n",
       "\n",
       "    .dataframe thead th {\n",
       "        text-align: right;\n",
       "    }\n",
       "</style>\n",
       "<table border=\"1\" class=\"dataframe\">\n",
       "  <thead>\n",
       "    <tr style=\"text-align: right;\">\n",
       "      <th></th>\n",
       "      <th>attributes</th>\n",
       "      <th>geometry</th>\n",
       "    </tr>\n",
       "  </thead>\n",
       "  <tbody>\n",
       "    <tr>\n",
       "      <th>0</th>\n",
       "      <td>{'OBJECTID': 1, 'Province_State': 'Abruzzo', '...</td>\n",
       "      <td>{'x': 13.398438230000068, 'y': 42.35122196000003}</td>\n",
       "    </tr>\n",
       "    <tr>\n",
       "      <th>1</th>\n",
       "      <td>{'OBJECTID': 2, 'Province_State': 'Acre', 'Cou...</td>\n",
       "      <td>{'x': -70.81199999999995, 'y': -9.023799999999...</td>\n",
       "    </tr>\n",
       "    <tr>\n",
       "      <th>2</th>\n",
       "      <td>{'OBJECTID': 3, 'Province_State': 'Aguascalien...</td>\n",
       "      <td>{'x': -102.29159999999996, 'y': 21.88530000000...</td>\n",
       "    </tr>\n",
       "    <tr>\n",
       "      <th>3</th>\n",
       "      <td>{'OBJECTID': 4, 'Province_State': 'Aichi', 'Co...</td>\n",
       "      <td>{'x': 137.21162100000004, 'y': 35.035551000000...</td>\n",
       "    </tr>\n",
       "    <tr>\n",
       "      <th>4</th>\n",
       "      <td>{'OBJECTID': 5, 'Province_State': 'Akita', 'Co...</td>\n",
       "      <td>{'x': 140.408228, 'y': 39.74867900000004}</td>\n",
       "    </tr>\n",
       "  </tbody>\n",
       "</table>\n",
       "</div>"
      ],
      "text/plain": [
       "                                          attributes  \\\n",
       "0  {'OBJECTID': 1, 'Province_State': 'Abruzzo', '...   \n",
       "1  {'OBJECTID': 2, 'Province_State': 'Acre', 'Cou...   \n",
       "2  {'OBJECTID': 3, 'Province_State': 'Aguascalien...   \n",
       "3  {'OBJECTID': 4, 'Province_State': 'Aichi', 'Co...   \n",
       "4  {'OBJECTID': 5, 'Province_State': 'Akita', 'Co...   \n",
       "\n",
       "                                            geometry  \n",
       "0  {'x': 13.398438230000068, 'y': 42.35122196000003}  \n",
       "1  {'x': -70.81199999999995, 'y': -9.023799999999...  \n",
       "2  {'x': -102.29159999999996, 'y': 21.88530000000...  \n",
       "3  {'x': 137.21162100000004, 'y': 35.035551000000...  \n",
       "4          {'x': 140.408228, 'y': 39.74867900000004}  "
      ]
     },
     "execution_count": 3,
     "metadata": {},
     "output_type": "execute_result"
    }
   ],
   "source": [
    "#preview data\n",
    "df.head()"
   ]
  },
  {
   "cell_type": "code",
   "execution_count": 4,
   "metadata": {
    "scrolled": true
   },
   "outputs": [
    {
     "data": {
      "text/plain": [
       "{'OBJECTID': 1,\n",
       " 'Province_State': 'Abruzzo',\n",
       " 'Country_Region': 'Italy',\n",
       " 'Last_Update': 1590759169000,\n",
       " 'Lat': 42.35122196,\n",
       " 'Long_': 13.39843823,\n",
       " 'Confirmed': 3237,\n",
       " 'Recovered': 2011,\n",
       " 'Deaths': 402}"
      ]
     },
     "execution_count": 4,
     "metadata": {},
     "output_type": "execute_result"
    }
   ],
   "source": [
    "#view values of attributes in more detail\n",
    "df[\"attributes\"][0]"
   ]
  },
  {
   "cell_type": "code",
   "execution_count": 5,
   "metadata": {},
   "outputs": [],
   "source": [
    "### Transform Data"
   ]
  },
  {
   "cell_type": "code",
   "execution_count": 8,
   "metadata": {},
   "outputs": [
    {
     "data": {
      "text/html": [
       "<div>\n",
       "<style scoped>\n",
       "    .dataframe tbody tr th:only-of-type {\n",
       "        vertical-align: middle;\n",
       "    }\n",
       "\n",
       "    .dataframe tbody tr th {\n",
       "        vertical-align: top;\n",
       "    }\n",
       "\n",
       "    .dataframe thead th {\n",
       "        text-align: right;\n",
       "    }\n",
       "</style>\n",
       "<table border=\"1\" class=\"dataframe\">\n",
       "  <thead>\n",
       "    <tr style=\"text-align: right;\">\n",
       "      <th></th>\n",
       "      <th>Country_Region</th>\n",
       "      <th>Province_State</th>\n",
       "      <th>Lat</th>\n",
       "      <th>Long_</th>\n",
       "      <th>Confirmed</th>\n",
       "      <th>Recovered</th>\n",
       "      <th>Deaths</th>\n",
       "      <th>Last_Update</th>\n",
       "    </tr>\n",
       "  </thead>\n",
       "  <tbody>\n",
       "    <tr>\n",
       "      <th>0</th>\n",
       "      <td>Italy</td>\n",
       "      <td>Abruzzo</td>\n",
       "      <td>42.351222</td>\n",
       "      <td>13.398438</td>\n",
       "      <td>3237</td>\n",
       "      <td>2011</td>\n",
       "      <td>402</td>\n",
       "      <td>1.590759e+12</td>\n",
       "    </tr>\n",
       "    <tr>\n",
       "      <th>1</th>\n",
       "      <td>Brazil</td>\n",
       "      <td>Acre</td>\n",
       "      <td>-9.023800</td>\n",
       "      <td>-70.812000</td>\n",
       "      <td>5600</td>\n",
       "      <td>0</td>\n",
       "      <td>122</td>\n",
       "      <td>1.590759e+12</td>\n",
       "    </tr>\n",
       "    <tr>\n",
       "      <th>2</th>\n",
       "      <td>Mexico</td>\n",
       "      <td>Aguascalientes</td>\n",
       "      <td>21.885300</td>\n",
       "      <td>-102.291600</td>\n",
       "      <td>769</td>\n",
       "      <td>523</td>\n",
       "      <td>33</td>\n",
       "      <td>1.590759e+12</td>\n",
       "    </tr>\n",
       "    <tr>\n",
       "      <th>3</th>\n",
       "      <td>Japan</td>\n",
       "      <td>Aichi</td>\n",
       "      <td>35.035551</td>\n",
       "      <td>137.211621</td>\n",
       "      <td>506</td>\n",
       "      <td>453</td>\n",
       "      <td>34</td>\n",
       "      <td>1.590759e+12</td>\n",
       "    </tr>\n",
       "    <tr>\n",
       "      <th>4</th>\n",
       "      <td>Japan</td>\n",
       "      <td>Akita</td>\n",
       "      <td>39.748679</td>\n",
       "      <td>140.408228</td>\n",
       "      <td>16</td>\n",
       "      <td>16</td>\n",
       "      <td>0</td>\n",
       "      <td>1.590759e+12</td>\n",
       "    </tr>\n",
       "  </tbody>\n",
       "</table>\n",
       "</div>"
      ],
      "text/plain": [
       "  Country_Region  Province_State        Lat       Long_  Confirmed  Recovered  \\\n",
       "0          Italy         Abruzzo  42.351222   13.398438       3237       2011   \n",
       "1         Brazil            Acre  -9.023800  -70.812000       5600          0   \n",
       "2         Mexico  Aguascalientes  21.885300 -102.291600        769        523   \n",
       "3          Japan           Aichi  35.035551  137.211621        506        453   \n",
       "4          Japan           Akita  39.748679  140.408228         16         16   \n",
       "\n",
       "   Deaths   Last_Update  \n",
       "0     402  1.590759e+12  \n",
       "1     122  1.590759e+12  \n",
       "2      33  1.590759e+12  \n",
       "3      34  1.590759e+12  \n",
       "4       0  1.590759e+12  "
      ]
     },
     "execution_count": 8,
     "metadata": {},
     "output_type": "execute_result"
    }
   ],
   "source": [
    "#convert dictionary to a list\n",
    "data_list = df[\"attributes\"].tolist()\n",
    "#build a new dataframe\n",
    "df_final = pd.DataFrame(data_list)\n",
    "#set \"OBJECTID\" as index for every record\n",
    "df_final.set_index(\"OBJECTID\")\n",
    "#reorder columns \n",
    "df_final = df_final[[\"Country_Region\", \"Province_State\", \"Lat\", \"Long_\", \"Confirmed\", \"Recovered\", \"Deaths\", \"Last_Update\"]]\n",
    "#preview tranformed data\n",
    "df_final.head()"
   ]
  },
  {
   "cell_type": "code",
   "execution_count": 14,
   "metadata": {},
   "outputs": [
    {
     "data": {
      "text/html": [
       "<div>\n",
       "<style scoped>\n",
       "    .dataframe tbody tr th:only-of-type {\n",
       "        vertical-align: middle;\n",
       "    }\n",
       "\n",
       "    .dataframe tbody tr th {\n",
       "        vertical-align: top;\n",
       "    }\n",
       "\n",
       "    .dataframe thead th {\n",
       "        text-align: right;\n",
       "    }\n",
       "</style>\n",
       "<table border=\"1\" class=\"dataframe\">\n",
       "  <thead>\n",
       "    <tr style=\"text-align: right;\">\n",
       "      <th></th>\n",
       "      <th>Country_Region</th>\n",
       "      <th>Province_State</th>\n",
       "      <th>Lat</th>\n",
       "      <th>Long_</th>\n",
       "      <th>Confirmed</th>\n",
       "      <th>Recovered</th>\n",
       "      <th>Deaths</th>\n",
       "      <th>Last_Update</th>\n",
       "    </tr>\n",
       "  </thead>\n",
       "  <tbody>\n",
       "    <tr>\n",
       "      <th>0</th>\n",
       "      <td>Italy</td>\n",
       "      <td>Abruzzo</td>\n",
       "      <td>42.351222</td>\n",
       "      <td>13.398438</td>\n",
       "      <td>3237</td>\n",
       "      <td>2011</td>\n",
       "      <td>402</td>\n",
       "      <td>1969-12-31 18:00:01</td>\n",
       "    </tr>\n",
       "    <tr>\n",
       "      <th>1</th>\n",
       "      <td>Brazil</td>\n",
       "      <td>Acre</td>\n",
       "      <td>-9.023800</td>\n",
       "      <td>-70.812000</td>\n",
       "      <td>5600</td>\n",
       "      <td>0</td>\n",
       "      <td>122</td>\n",
       "      <td>1969-12-31 18:00:01</td>\n",
       "    </tr>\n",
       "    <tr>\n",
       "      <th>2</th>\n",
       "      <td>Mexico</td>\n",
       "      <td>Aguascalientes</td>\n",
       "      <td>21.885300</td>\n",
       "      <td>-102.291600</td>\n",
       "      <td>769</td>\n",
       "      <td>523</td>\n",
       "      <td>33</td>\n",
       "      <td>1969-12-31 18:00:01</td>\n",
       "    </tr>\n",
       "    <tr>\n",
       "      <th>3</th>\n",
       "      <td>Japan</td>\n",
       "      <td>Aichi</td>\n",
       "      <td>35.035551</td>\n",
       "      <td>137.211621</td>\n",
       "      <td>506</td>\n",
       "      <td>453</td>\n",
       "      <td>34</td>\n",
       "      <td>1969-12-31 18:00:01</td>\n",
       "    </tr>\n",
       "    <tr>\n",
       "      <th>4</th>\n",
       "      <td>Japan</td>\n",
       "      <td>Akita</td>\n",
       "      <td>39.748679</td>\n",
       "      <td>140.408228</td>\n",
       "      <td>16</td>\n",
       "      <td>16</td>\n",
       "      <td>0</td>\n",
       "      <td>1969-12-31 18:00:01</td>\n",
       "    </tr>\n",
       "  </tbody>\n",
       "</table>\n",
       "</div>"
      ],
      "text/plain": [
       "  Country_Region  Province_State        Lat       Long_  Confirmed  Recovered  \\\n",
       "0          Italy         Abruzzo  42.351222   13.398438       3237       2011   \n",
       "1         Brazil            Acre  -9.023800  -70.812000       5600          0   \n",
       "2         Mexico  Aguascalientes  21.885300 -102.291600        769        523   \n",
       "3          Japan           Aichi  35.035551  137.211621        506        453   \n",
       "4          Japan           Akita  39.748679  140.408228         16         16   \n",
       "\n",
       "   Deaths         Last_Update  \n",
       "0     402 1969-12-31 18:00:01  \n",
       "1     122 1969-12-31 18:00:01  \n",
       "2      33 1969-12-31 18:00:01  \n",
       "3      34 1969-12-31 18:00:01  \n",
       "4       0 1969-12-31 18:00:01  "
      ]
     },
     "execution_count": 14,
     "metadata": {},
     "output_type": "execute_result"
    }
   ],
   "source": [
    "#Last_Update in milliseconds --> convert to yyyy-mm-dd and drop NAs\n",
    "#fromtimestamp method\n",
    "def convertTime(t):\n",
    "    t = int(t)\n",
    "    return datetime.fromtimestamp(t)\n",
    "\n",
    "df_final = df_final.dropna(subset=[\"Last_Update\"])\n",
    "df_final[\"Province_State\"].fillna(value=\"\", inplace=True)\n",
    "\n",
    "df_final[\"Last_Update\"]= df_final[\"Last_Update\"]/1000\n",
    "df_final[\"Last_Update\"] = df_final[\"Last_Update\"].apply(convertTime)\n",
    "\n",
    "df_final.head()\n",
    "\n",
    "df_final[\"Confirmed\"] = df_final[]\n",
    "###something is going on with Last_Update (1969???)"
   ]
  },
  {
   "cell_type": "code",
   "execution_count": 65,
   "metadata": {},
   "outputs": [
    {
     "data": {
      "text/html": [
       "<div>\n",
       "<style scoped>\n",
       "    .dataframe tbody tr th:only-of-type {\n",
       "        vertical-align: middle;\n",
       "    }\n",
       "\n",
       "    .dataframe tbody tr th {\n",
       "        vertical-align: top;\n",
       "    }\n",
       "\n",
       "    .dataframe thead th {\n",
       "        text-align: right;\n",
       "    }\n",
       "</style>\n",
       "<table border=\"1\" class=\"dataframe\">\n",
       "  <thead>\n",
       "    <tr style=\"text-align: right;\">\n",
       "      <th></th>\n",
       "      <th>Country_Region</th>\n",
       "      <th>Confirmed</th>\n",
       "      <th>Recovered</th>\n",
       "      <th>Deaths</th>\n",
       "    </tr>\n",
       "  </thead>\n",
       "  <tbody>\n",
       "    <tr>\n",
       "      <th>0</th>\n",
       "      <td>Afghanistan</td>\n",
       "      <td>13659</td>\n",
       "      <td>1259</td>\n",
       "      <td>246</td>\n",
       "    </tr>\n",
       "    <tr>\n",
       "      <th>1</th>\n",
       "      <td>Albania</td>\n",
       "      <td>1099</td>\n",
       "      <td>851</td>\n",
       "      <td>33</td>\n",
       "    </tr>\n",
       "    <tr>\n",
       "      <th>2</th>\n",
       "      <td>Algeria</td>\n",
       "      <td>8997</td>\n",
       "      <td>5277</td>\n",
       "      <td>630</td>\n",
       "    </tr>\n",
       "    <tr>\n",
       "      <th>3</th>\n",
       "      <td>Andorra</td>\n",
       "      <td>763</td>\n",
       "      <td>681</td>\n",
       "      <td>51</td>\n",
       "    </tr>\n",
       "    <tr>\n",
       "      <th>4</th>\n",
       "      <td>Angola</td>\n",
       "      <td>74</td>\n",
       "      <td>18</td>\n",
       "      <td>4</td>\n",
       "    </tr>\n",
       "  </tbody>\n",
       "</table>\n",
       "</div>"
      ],
      "text/plain": [
       "  Country_Region  Confirmed  Recovered  Deaths\n",
       "0    Afghanistan      13659       1259     246\n",
       "1        Albania       1099        851      33\n",
       "2        Algeria       8997       5277     630\n",
       "3        Andorra        763        681      51\n",
       "4         Angola         74         18       4"
      ]
     },
     "execution_count": 65,
     "metadata": {},
     "output_type": "execute_result"
    }
   ],
   "source": [
    "#create a totals dataframe to show a list of top ten countries \n",
    "df_total = df_final.groupby(\"Country_Region\", as_index=False).agg(\n",
    "        {\n",
    "            \"Confirmed\" : \"sum\",\n",
    "            \"Recovered\" : \"sum\",\n",
    "            \"Deaths\" : \"sum\"\n",
    "        }\n",
    ")\n",
    "\n",
    "df_total.head()"
   ]
  },
  {
   "cell_type": "code",
   "execution_count": 54,
   "metadata": {},
   "outputs": [
    {
     "data": {
      "text/plain": [
       "0           NaN\n",
       "1      0.729997\n",
       "2     -0.862679\n",
       "3     -0.342003\n",
       "4     -0.968379\n",
       "         ...   \n",
       "551    1.559816\n",
       "552   -0.512605\n",
       "553    0.562371\n",
       "554   -0.671184\n",
       "555   -0.742228\n",
       "Name: Confirmed, Length: 554, dtype: float64"
      ]
     },
     "execution_count": 54,
     "metadata": {},
     "output_type": "execute_result"
    }
   ],
   "source": [
    "change_confirmed = df_final[\"Confirmed\"].pct_change(fill_method='ffill')\n",
    "change_confirmed"
   ]
  },
  {
   "cell_type": "code",
   "execution_count": 55,
   "metadata": {},
   "outputs": [
    {
     "data": {
      "text/plain": [
       "0           NaN\n",
       "1     -1.000000\n",
       "2           inf\n",
       "3     -0.133843\n",
       "4     -0.964680\n",
       "         ...   \n",
       "551         NaN\n",
       "552         NaN\n",
       "553         NaN\n",
       "554         NaN\n",
       "555         NaN\n",
       "Name: Recovered, Length: 554, dtype: float64"
      ]
     },
     "execution_count": 55,
     "metadata": {},
     "output_type": "execute_result"
    }
   ],
   "source": [
    "change_recovered = df_final[\"Recovered\"].pct_change(fill_method='ffill')\n",
    "change_recovered"
   ]
  },
  {
   "cell_type": "code",
   "execution_count": 63,
   "metadata": {},
   "outputs": [],
   "source": [
    "change_deaths = df_final[\"Deaths\"].pct_change"
   ]
  },
  {
   "cell_type": "code",
   "execution_count": 61,
   "metadata": {},
   "outputs": [
    {
     "data": {
      "text/plain": [
       "0           NaN\n",
       "1      0.729997\n",
       "2     -0.862679\n",
       "3     -0.342003\n",
       "4     -0.968379\n",
       "         ...   \n",
       "551    1.559816\n",
       "552   -0.512605\n",
       "553    0.562371\n",
       "554   -0.671184\n",
       "555   -0.742228\n",
       "Name: Confirmed, Length: 554, dtype: float64"
      ]
     },
     "execution_count": 61,
     "metadata": {},
     "output_type": "execute_result"
    }
   ],
   "source": [
    "df_final[\"Confirmed\"].pct_change()"
   ]
  },
  {
   "cell_type": "code",
   "execution_count": 66,
   "metadata": {},
   "outputs": [
    {
     "ename": "AttributeError",
     "evalue": "'numpy.int64' object has no attribute 'rename'",
     "output_type": "error",
     "traceback": [
      "\u001b[0;31m---------------------------------------------------------------------------\u001b[0m",
      "\u001b[0;31mAttributeError\u001b[0m                            Traceback (most recent call last)",
      "\u001b[0;32m<ipython-input-66-b3e04324086d>\u001b[0m in \u001b[0;36m<module>\u001b[0;34m\u001b[0m\n\u001b[1;32m      1\u001b[0m \u001b[0;31m#calculate the daily toals of COVID-19 cases globally and top ten countries\u001b[0m\u001b[0;34m\u001b[0m\u001b[0;34m\u001b[0m\u001b[0;34m\u001b[0m\u001b[0m\n\u001b[1;32m      2\u001b[0m \u001b[0;31m#global\u001b[0m\u001b[0;34m\u001b[0m\u001b[0;34m\u001b[0m\u001b[0;34m\u001b[0m\u001b[0m\n\u001b[0;32m----> 3\u001b[0;31m \u001b[0mglobal_confirmed\u001b[0m \u001b[0;34m=\u001b[0m \u001b[0mdf_final\u001b[0m\u001b[0;34m[\u001b[0m\u001b[0;34m\"Confirmed\"\u001b[0m\u001b[0;34m]\u001b[0m\u001b[0;34m.\u001b[0m\u001b[0msum\u001b[0m\u001b[0;34m(\u001b[0m\u001b[0;34m)\u001b[0m\u001b[0;34m.\u001b[0m\u001b[0mrename\u001b[0m\u001b[0;34m(\u001b[0m\u001b[0;34m\"count\"\u001b[0m\u001b[0;34m)\u001b[0m\u001b[0;34m\u001b[0m\u001b[0;34m\u001b[0m\u001b[0m\n\u001b[0m\u001b[1;32m      4\u001b[0m \u001b[0mglobal_recovered\u001b[0m \u001b[0;34m=\u001b[0m \u001b[0mdf_final\u001b[0m\u001b[0;34m[\u001b[0m\u001b[0;34m\"Recovered\"\u001b[0m\u001b[0;34m]\u001b[0m\u001b[0;34m.\u001b[0m\u001b[0msum\u001b[0m\u001b[0;34m(\u001b[0m\u001b[0;34m)\u001b[0m\u001b[0;34m\u001b[0m\u001b[0;34m\u001b[0m\u001b[0m\n\u001b[1;32m      5\u001b[0m \u001b[0mglobal_deaths\u001b[0m \u001b[0;34m=\u001b[0m \u001b[0mdf_final\u001b[0m\u001b[0;34m[\u001b[0m\u001b[0;34m\"Deaths\"\u001b[0m\u001b[0;34m]\u001b[0m\u001b[0;34m.\u001b[0m\u001b[0msum\u001b[0m\u001b[0;34m(\u001b[0m\u001b[0;34m)\u001b[0m\u001b[0;34m\u001b[0m\u001b[0;34m\u001b[0m\u001b[0m\n",
      "\u001b[0;31mAttributeError\u001b[0m: 'numpy.int64' object has no attribute 'rename'"
     ]
    }
   ],
   "source": [
    "#calculate the daily toals of COVID-19 cases globally and top ten countries\n",
    "#global\n",
    "global_confirmed = df_final[\"Confirmed\"].sum()\n",
    "global_recovered = df_final[\"Recovered\"].sum()\n",
    "global_deaths = df_final[\"Deaths\"].sum()\n",
    "\n",
    "global_confirmed"
   ]
  },
  {
   "cell_type": "code",
   "execution_count": null,
   "metadata": {},
   "outputs": [],
   "source": [
    "#top ten countries\n",
    "df_top10 = df_total.nlargest(10, \"Confirmed\")\n",
    "top10_countries_1 = df_top10[\"Country_Region\"].tolist()\n",
    "top10_confirmed = df_top10[\"Confirmed\"].tolist()\n",
    "\n",
    "df_top10 = df_total.nlargest(10, \"Recovered\")\n",
    "top10_countries_2 = df_top10[\"Country_Region\"].tolist()\n",
    "top10_recovered = df_top10[\"Recovered\"].tolist()\n",
    "\n",
    "df_top10 = df_total.nlargest(10, \"Deaths\")\n",
    "top10_countries_3 = df_top10[\"Country_Region\"].tolist()\n",
    "top10_deaths = df_top10[\"Deaths\"].tolist()"
   ]
  }
 ],
 "metadata": {
  "kernelspec": {
   "display_name": "Python 3",
   "language": "python",
   "name": "python3"
  },
  "language_info": {
   "codemirror_mode": {
    "name": "ipython",
    "version": 3
   },
   "file_extension": ".py",
   "mimetype": "text/x-python",
   "name": "python",
   "nbconvert_exporter": "python",
   "pygments_lexer": "ipython3",
   "version": "3.7.6"
  }
 },
 "nbformat": 4,
 "nbformat_minor": 4
}
